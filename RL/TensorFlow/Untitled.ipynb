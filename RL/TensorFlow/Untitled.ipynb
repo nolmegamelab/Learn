{
 "cells": [
  {
   "cell_type": "code",
   "execution_count": 1,
   "id": "6377784f",
   "metadata": {},
   "outputs": [],
   "source": [
    "import tensorflow as tf \n",
    "import numpy as np \n",
    "import seaborn as sns \n",
    "import matplotlib.pyplot as plt \n",
    "from mpl_toolkits import mplot3d"
   ]
  },
  {
   "cell_type": "code",
   "execution_count": 2,
   "id": "c32f408d",
   "metadata": {},
   "outputs": [
    {
     "data": {
      "text/plain": [
       "array([ 1.91631554,  8.37233553, 10.82556471, 14.9870931 , 20.64553087,\n",
       "       23.88885617, 25.48265184, 32.29483039, 34.03553827, 38.96612668])"
      ]
     },
     "execution_count": 2,
     "metadata": {},
     "output_type": "execute_result"
    }
   ],
   "source": [
    "x = np.arange(10)\n",
    "y = 4*x + 3\n",
    "noise = np.random.normal(0, 1, 10)\n",
    "y = y + noise"
   ]
  },
  {
   "cell_type": "code",
   "execution_count": 6,
   "id": "a19c7a63",
   "metadata": {
    "scrolled": true
   },
   "outputs": [
    {
     "name": "stderr",
     "output_type": "stream",
     "text": [
      "c:\\app\\python39\\lib\\site-packages\\seaborn\\_decorators.py:36: FutureWarning: Pass the following variables as keyword args: x, y. From version 0.12, the only valid positional argument will be `data`, and passing other arguments without an explicit keyword will result in an error or misinterpretation.\n",
      "  warnings.warn(\n"
     ]
    },
    {
     "data": {
      "text/plain": [
       "Text(0, 0.5, 'y')"
      ]
     },
     "execution_count": 6,
     "metadata": {},
     "output_type": "execute_result"
    },
    {
     "data": {
      "image/png": "[encoded data removed]",
      "text/plain": [
       "<Figure size 360x360 with 1 Axes>"
      ]
     },
     "metadata": {
      "needs_background": "light"
     },
     "output_type": "display_data"
    }
   ],
   "source": [
    "fig = plt.figure(figsize=(5, 5))\n",
    "ax = sns.lineplot(x, y)\n",
    "plt.xlabel(\"x\")\n",
    "plt.ylabel(\"y\")"
   ]
  },
  {
   "cell_type": "code",
   "execution_count": 11,
   "id": "a73a25e8",
   "metadata": {},
   "outputs": [
    {
     "name": "stdout",
     "output_type": "stream",
     "text": [
      "29.85379 4.4456987 1.1747594865545 4.7572613 0.06286843\n",
      "4.4456987\n",
      "1.1747594\n"
     ]
    }
   ],
   "source": [
    "def init(): \n",
    "    M = tf.Variable(5.0)\n",
    "    C = tf.Variable(0.0)\n",
    "    return M, C\n",
    "\n",
    "M, C = init() \n",
    "opt = tf.keras.optimizers.Adam(learning_rate=0.001)\n",
    "\n",
    "for epoch in range(1000): \n",
    "    opt.minimize(lambda: sum(abs(y - M*x - C)), var_list=[M, C])\n",
    "    print(sum((y-M*x -C)**2).numpy(), M.numpy(), C.numpy(), end=\"\\r\")\n",
    "    \n",
    "print() \n",
    "print(M.numpy())\n",
    "print(C.numpy())"
   ]
  },
  {
   "cell_type": "code",
   "execution_count": null,
   "id": "8b8f9d5d",
   "metadata": {},
   "outputs": [],
   "source": []
  }
 ],
 "metadata": {
  "kernelspec": {
   "display_name": "Python 3 (ipykernel)",
   "language": "python",
   "name": "python3"
  },
  "language_info": {
   "codemirror_mode": {
    "name": "ipython",
    "version": 3
   },
   "file_extension": ".py",
   "mimetype": "text/x-python",
   "name": "python",
   "nbconvert_exporter": "python",
   "pygments_lexer": "ipython3",
   "version": "3.9.6"
  }
 },
 "nbformat": 4,
 "nbformat_minor": 5
}
